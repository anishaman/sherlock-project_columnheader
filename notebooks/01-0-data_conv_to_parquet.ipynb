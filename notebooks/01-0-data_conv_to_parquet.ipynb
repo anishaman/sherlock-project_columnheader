{
 "cells": [
  {
   "cell_type": "markdown",
   "id": "aecd29ba",
   "metadata": {},
   "source": [
    "# Converting the Excel or CSV files into the required parquet file for training\n",
    "The steps are:\n",
    "- reading the excel or csv file into pandas data frame\n",
    "- splitting the data frame into train test and validation dataset\n",
    "- extracting the labels of the dataset into dataframes\n",
    "- extracting the data of the columns into dataframes in required format\n",
    "- Saving the parquet files into the directory to be used for later data preprocessing and training"
   ]
  },
  {
   "cell_type": "code",
   "execution_count": null,
   "id": "ac1ac428",
   "metadata": {},
   "outputs": [],
   "source": [
    "import pandas as pd\n",
    "import numpy as np"
   ]
  },
  {
   "cell_type": "markdown",
   "id": "c84a6117",
   "metadata": {},
   "source": [
    "## Reading the data from excel file\n",
    "The notebook reads an excel from the directory. You can just use \"pd.read_csv()\" function to read csv files"
   ]
  },
  {
   "cell_type": "code",
   "execution_count": null,
   "id": "1f53edb6",
   "metadata": {},
   "outputs": [],
   "source": [
    "df=pd.read_excel(\"../data/data/raw/Business dataset_trial.xlsx\")\n",
    "len(df.columns)\n",
    "df.columns\n",
    "df\n",
    "df=df.sample(frac=1)\n"
   ]
  },
  {
   "cell_type": "markdown",
   "id": "06d72c56",
   "metadata": {},
   "source": [
    "## Splitting the data into train, test and validation"
   ]
  },
  {
   "cell_type": "code",
   "execution_count": null,
   "id": "ddfd7493",
   "metadata": {},
   "outputs": [],
   "source": [
    "train_df=df[0:round(0.7*len(df.index))]\n",
    "validation_df=df[round(0.7*len(df.index)):round(0.85*len(df.index))]\n",
    "test_df=df[round(0.85*len(df.index)):len(df.index)]\n",
    "print(\"Number of samples in training set : \"+str(len(train_df.index)))\n",
    "print(\"Number of samples in validation set : \"+str(len(validation_df.index)))\n",
    "print(\"Number of samples in testing set : \"+str(len(test_df.index)))\n"
   ]
  },
  {
   "cell_type": "markdown",
   "id": "502e5a49",
   "metadata": {},
   "source": [
    "## Extracting the column headers from the data"
   ]
  },
  {
   "cell_type": "code",
   "execution_count": null,
   "id": "11739f55",
   "metadata": {},
   "outputs": [],
   "source": [
    "label_df_train=pd.DataFrame(columns=[\"type\"])\n",
    "label_df_test=pd.DataFrame(columns=[\"type\"])\n",
    "label_df_validation=pd.DataFrame(columns=[\"type\"])\n",
    "# label_df.columns\n",
    "label_df_test\n",
    "\n",
    "label_df_train['type']=df.columns.values\n",
    "# label_df_train['']=label_df_train.index+1\n",
    "label_df_validation['type']=df.columns.values\n",
    "# label_df_validation['']=label_df_validation.index+1\n",
    "label_df_test['type']=df.columns.values\n",
    "# label_df_test['']=label_df_test.index+1\n",
    "label_df_train"
   ]
  },
  {
   "cell_type": "markdown",
   "id": "345d36fc",
   "metadata": {},
   "source": [
    "## Extracting the data in the columns"
   ]
  },
  {
   "cell_type": "code",
   "execution_count": null,
   "id": "fa96f5d1",
   "metadata": {},
   "outputs": [],
   "source": [
    "columndata_df_train=pd.DataFrame(index=np.arange(len(df.columns)),columns=[\"values\"])\n",
    "columndata_df_validation=pd.DataFrame(index=np.arange(len(df.columns)),columns=[\"values\"])\n",
    "columndata_df_test=pd.DataFrame(index=np.arange(len(df.columns)),columns=[\"values\"])\n",
    "# columndata_df.columns\n",
    "i=0\n",
    "for col in df.columns:\n",
    "    columndata_df_train[\"values\"][i]=train_df[col].astype(str).tolist()\n",
    "    columndata_df_validation[\"values\"][i]=validation_df[col].astype(str).tolist()\n",
    "    columndata_df_test[\"values\"][i]=test_df[col].astype(str).tolist()\n",
    "    i=i+1\n",
    "columndata_df_test[\"values\"]=columndata_df_test[\"values\"].astype(str)\n",
    "columndata_df_train[\"values\"]=columndata_df_train[\"values\"].astype(str)\n",
    "columndata_df_validation[\"values\"]=columndata_df_validation[\"values\"].astype(str)\n",
    "columndata_df_train.head(10)"
   ]
  },
  {
   "cell_type": "markdown",
   "id": "79ebbc6d",
   "metadata": {},
   "source": [
    "## Saving the column lablels and the column data in parquet format"
   ]
  },
  {
   "cell_type": "code",
   "execution_count": null,
   "id": "fe5369ef",
   "metadata": {},
   "outputs": [],
   "source": [
    "label_df_train.to_parquet(\"../data/data/raw/ph_train_label.parquet\",compression=None)\n",
    "label_df_validation.to_parquet(\"../data/data/raw/ph_validation_label.parquet\",compression=None)\n",
    "label_df_test.to_parquet(\"../data/data/raw/ph_test_label.parquet\",compression=None)\n",
    "columndata_df_train.to_parquet(\"../data/data/raw/ph_train_data.parquet\",compression=\"snappy\")\n",
    "columndata_df_validation.to_parquet(\"../data/data/raw/ph_validation_data.parquet\",compression=None)\n",
    "columndata_df_test.to_parquet(\"../data/data/raw/ph_test_data.parquet\",compression=None)"
   ]
  }
 ],
 "metadata": {
  "kernelspec": {
   "display_name": "Python 3 (ipykernel)",
   "language": "python",
   "name": "python3"
  },
  "language_info": {
   "codemirror_mode": {
    "name": "ipython",
    "version": 3
   },
   "file_extension": ".py",
   "mimetype": "text/x-python",
   "name": "python",
   "nbconvert_exporter": "python",
   "pygments_lexer": "ipython3",
   "version": "3.9.13"
  }
 },
 "nbformat": 4,
 "nbformat_minor": 5
}
