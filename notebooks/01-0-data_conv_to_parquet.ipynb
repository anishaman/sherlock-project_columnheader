import pandas as pd
import numpy as np
df=pd.read_excel("../data/data/raw/Business dataset_trial.xlsx")
len(df.columns)
df.columns
df
df=df.sample(frac=1)
train_df=df[0:round(0.7*len(df.index))]
validation_df=df[round(0.7*len(df.index)):round(0.85*len(df.index))]
test_df=df[round(0.85*len(df.index)):len(df.index)]
print("Number of samples in training set : "+str(len(train_df.index)))
print("Number of samples in validation set : "+str(len(validation_df.index)))
print("Number of samples in testing set : "+str(len(test_df.index)))
label_df_train=pd.DataFrame(columns=["type"])
label_df_test=pd.DataFrame(columns=["type"])
label_df_validation=pd.DataFrame(columns=["type"])
# label_df.columns
label_df_test

label_df_train['type']=df.columns.values
# label_df_train['']=label_df_train.index+1
label_df_validation['type']=df.columns.values
# label_df_validation['']=label_df_validation.index+1
label_df_test['type']=df.columns.values
# label_df_test['']=label_df_test.index+1
label_df_train
columndata_df_train=pd.DataFrame(index=np.arange(len(df.columns)),columns=["values"])
columndata_df_validation=pd.DataFrame(index=np.arange(len(df.columns)),columns=["values"])
columndata_df_test=pd.DataFrame(index=np.arange(len(df.columns)),columns=["values"])
# columndata_df.columns
i=0
for col in df.columns:
    columndata_df_train["values"][i]=train_df[col].astype(str).tolist()
    columndata_df_validation["values"][i]=validation_df[col].astype(str).tolist()
    columndata_df_test["values"][i]=test_df[col].astype(str).tolist()
    i=i+1
# columndata_df_train['']=columndata_df_train.index+1
# columndata_df_validation['']=columndata_df_validation.index+1
# columndata_df_test['']=columndata_df_test.index+1
# columndata_df.head()
columndata_df_test["values"]=columndata_df_test["values"].astype(str)
columndata_df_train["values"]=columndata_df_train["values"].astype(str)
columndata_df_validation["values"]=columndata_df_validation["values"].astype(str)
columndata_df_train.head(10)
label_df_train.to_parquet("../data/data/raw/ph_train_label.parquet",compression=None)
label_df_validation.to_parquet("../data/data/raw/ph_validation_label.parquet",compression=None)
label_df_test.to_parquet("../data/data/raw/ph_test_label.parquet",compression=None)
columndata_df_train.to_parquet("../data/data/raw/ph_train_data.parquet",compression="snappy")
columndata_df_validation.to_parquet("../data/data/raw/ph_validation_data.parquet",compression=None)
columndata_df_test.to_parquet("../data/data/raw/ph_test_data.parquet",compression=None)